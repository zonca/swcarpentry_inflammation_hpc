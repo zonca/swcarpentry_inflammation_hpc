{
 "cells": [
  {
   "cell_type": "markdown",
   "metadata": {},
   "source": [
    "# Array multinode\n",
    "\n",
    "In this last notebook we are using several processes to load data in memory but then we are building a single distributed matrix, we can operate on it using methods or even slicing like if it were a `numpy` array, `dask` will take care of managing all the process to process communication for us.\n",
    "\n",
    "Here we are using `dask-distributed` so we could run on many different nodes."
   ]
  },
  {
   "cell_type": "code",
   "execution_count": 1,
   "metadata": {},
   "outputs": [],
   "source": [
    "def load_file(filename):\n",
    "    import numpy\n",
    "    data = numpy.loadtxt(fname=filename, delimiter=',')\n",
    "    return data"
   ]
  },
  {
   "cell_type": "code",
   "execution_count": 2,
   "metadata": {},
   "outputs": [],
   "source": [
    "import glob\n",
    "import os\n",
    "filenames = glob.glob(\"inflammation-*.csv\")\n",
    "for i in range(len(filenames)):\n",
    "    filenames[i] = os.getcwd() + '/' + filenames[i]"
   ]
  },
  {
   "cell_type": "code",
   "execution_count": 4,
   "metadata": {},
   "outputs": [],
   "source": [
    "from distributed import Client"
   ]
  },
  {
   "cell_type": "code",
   "execution_count": 5,
   "metadata": {},
   "outputs": [],
   "source": [
    "executor = Client('127.0.0.1:8786')"
   ]
  },
  {
   "cell_type": "code",
   "execution_count": 6,
   "metadata": {},
   "outputs": [],
   "source": [
    "data_futures = executor.map(load_file, filenames)"
   ]
  },
  {
   "cell_type": "code",
   "execution_count": 7,
   "metadata": {},
   "outputs": [
    {
     "data": {
      "text/plain": [
       "[<Future: status: finished, type: ndarray, key: load_file-62a583ce0939eb4b75c532278840c407>,\n",
       " <Future: status: finished, type: ndarray, key: load_file-877106e7cb375343642acae9f68bbb36>,\n",
       " <Future: status: finished, type: ndarray, key: load_file-c3bf8d890a05ba20db4232a50a3cf6e6>,\n",
       " <Future: status: finished, type: ndarray, key: load_file-ece9468203099fd1ec6a8eb89d071b97>,\n",
       " <Future: status: finished, type: ndarray, key: load_file-c080e136316e3479c15fd0c9927accd6>,\n",
       " <Future: status: finished, type: ndarray, key: load_file-9367dfd7addefcc37cd0db31b99f5324>,\n",
       " <Future: status: finished, type: ndarray, key: load_file-d240868f658f6a29ea240703695569b4>,\n",
       " <Future: status: finished, type: ndarray, key: load_file-86f96c3309c8563f6b7d1f3f85021a9c>,\n",
       " <Future: status: finished, type: ndarray, key: load_file-922ed2fe12f5e3285b8537112d79f1e8>,\n",
       " <Future: status: finished, type: ndarray, key: load_file-f6e238163b6b99a3e5c8f51be5899d75>,\n",
       " <Future: status: finished, type: ndarray, key: load_file-895eb021839601ef793a9b2b891c1766>,\n",
       " <Future: status: finished, type: ndarray, key: load_file-8a2e8d8fa2f4a463d88b8c4dd059ce7d>]"
      ]
     },
     "execution_count": 7,
     "metadata": {},
     "output_type": "execute_result"
    }
   ],
   "source": [
    "data_futures"
   ]
  },
  {
   "cell_type": "code",
   "execution_count": 15,
   "metadata": {},
   "outputs": [
    {
     "data": {
      "text/plain": [
       "2400"
      ]
     },
     "execution_count": 15,
     "metadata": {},
     "output_type": "execute_result"
    }
   ],
   "source": [
    "data_futures[0].result().size"
   ]
  },
  {
   "cell_type": "code",
   "execution_count": 23,
   "metadata": {},
   "outputs": [],
   "source": [
    "import dask.array as da\n",
    "# many small dask arrays\n",
    "distributed_dask_arrays = [da.from_delayed(future,(60,40),\"float64\") for future in data_futures]\n",
    "# one large dask array, joined by time\n",
    "all_distributed_data = da.concatenate(distributed_dask_arrays, axis=0)"
   ]
  },
  {
   "cell_type": "code",
   "execution_count": 24,
   "metadata": {},
   "outputs": [
    {
     "data": {
      "text/plain": [
       "(720, 40)"
      ]
     },
     "execution_count": 24,
     "metadata": {},
     "output_type": "execute_result"
    }
   ],
   "source": [
    "all_distributed_data.shape"
   ]
  },
  {
   "cell_type": "code",
   "execution_count": 25,
   "metadata": {},
   "outputs": [
    {
     "data": {
      "text/plain": [
       "20.0"
      ]
     },
     "execution_count": 25,
     "metadata": {},
     "output_type": "execute_result"
    }
   ],
   "source": [
    "all_distributed_data.max().compute()"
   ]
  },
  {
   "cell_type": "code",
   "execution_count": 26,
   "metadata": {},
   "outputs": [
    {
     "data": {
      "text/plain": [
       "[20.0, 1.0]"
      ]
     },
     "execution_count": 26,
     "metadata": {},
     "output_type": "execute_result"
    }
   ],
   "source": [
    "executor.compute([all_distributed_data.max(), all_distributed_data[:,1].max()], sync=True)"
   ]
  },
  {
   "cell_type": "code",
   "execution_count": null,
   "metadata": {},
   "outputs": [],
   "source": []
  },
  {
   "cell_type": "code",
   "execution_count": null,
   "metadata": {},
   "outputs": [],
   "source": []
  }
 ],
 "metadata": {
  "anaconda-cloud": {},
  "kernelspec": {
   "display_name": "Python 3",
   "language": "python",
   "name": "python3"
  },
  "language_info": {
   "codemirror_mode": {
    "name": "ipython",
    "version": 3
   },
   "file_extension": ".py",
   "mimetype": "text/x-python",
   "name": "python",
   "nbconvert_exporter": "python",
   "pygments_lexer": "ipython3",
   "version": "3.6.5"
  }
 },
 "nbformat": 4,
 "nbformat_minor": 1
}
