{
 "cells": [
  {
   "cell_type": "markdown",
   "metadata": {},
   "source": [
    "# Plotting multinode\n",
    "\n",
    "We are now using `dask` locally, so this is equivalent to multicore. However `dask` works also across multiple machines automatically, so you would just need to execute `dask-worker` on other machines and give as argument the address of the machine where the scheduler is running.\n",
    "\n",
    "For more information about `dask-distributed`, see <https://distributed.readthedocs.io/en/latest/index.html>\n",
    "\n",
    "## Launch dask\n",
    "\n",
    "Open a terminal and launch (`&` to send to a background process):\n",
    "\n",
    "    dask-scheduler --host localhost &\n",
    "    \n",
    "To launch the scheduler process, and then a couple of workers:\n",
    "\n",
    "    dask-worker 127.0.0.1:8786 &\n",
    "    dask-worker 127.0.0.1:8786 &"
   ]
  },
  {
   "cell_type": "code",
   "execution_count": 1,
   "metadata": {},
   "outputs": [],
   "source": [
    "import glob\n",
    "import os\n",
    "filenames = glob.glob(\"inflammation-*.csv\")\n",
    "for i in range(len(filenames)):\n",
    "    filenames[i] = os.getcwd() + '/' + filenames[i]"
   ]
  },
  {
   "cell_type": "code",
   "execution_count": 2,
   "metadata": {},
   "outputs": [],
   "source": [
    "%matplotlib inline"
   ]
  },
  {
   "cell_type": "code",
   "execution_count": 3,
   "metadata": {},
   "outputs": [],
   "source": [
    "import distributed"
   ]
  },
  {
   "cell_type": "code",
   "execution_count": 4,
   "metadata": {},
   "outputs": [],
   "source": [
    "executor = distributed.Client('127.0.0.1:8786')"
   ]
  },
  {
   "cell_type": "code",
   "execution_count": 5,
   "metadata": {},
   "outputs": [
    {
     "name": "stdout",
     "output_type": "stream",
     "text": [
      "CPU times: user 18.2 ms, sys: 3.85 ms, total: 22.1 ms\n",
      "Wall time: 1.16 s\n"
     ]
    }
   ],
   "source": [
    "%%time\n",
    "executor.upload_file('analyze_inflammation.py')\n",
    "from analyze_inflammation import analyze\n",
    "\n",
    "results_handle = executor.map(analyze, filenames)\n",
    "results = executor.gather(results_handle)"
   ]
  },
  {
   "cell_type": "code",
   "execution_count": 6,
   "metadata": {},
   "outputs": [
    {
     "name": "stdout",
     "output_type": "stream",
     "text": [
      "-rw-r--r--  1 tibben  staff   6510 Sep 20 23:13 inflammation-01.png\r\n",
      "-rw-r--r--  1 tibben  staff  16084 Sep 20 23:13 inflammation-02.png\r\n",
      "-rw-r--r--  1 tibben  staff   2028 Sep 20 23:13 inflammation-03.png\r\n",
      "-rw-r--r--  1 tibben  staff  32171 Sep 20 23:13 inflammation-04.png\r\n",
      "-rw-r--r--  1 tibben  staff   2028 Sep 20 23:13 inflammation-05.png\r\n",
      "-rw-r--r--  1 tibben  staff  16372 Sep 20 23:13 inflammation-06.png\r\n",
      "-rw-r--r--  1 tibben  staff  32212 Sep 20 23:13 inflammation-07.png\r\n",
      "-rw-r--r--  1 tibben  staff  20588 Sep 20 23:13 inflammation-08.png\r\n",
      "-rw-r--r--  1 tibben  staff  27540 Sep 20 23:13 inflammation-09.png\r\n",
      "-rw-r--r--  1 tibben  staff  16519 Sep 20 23:13 inflammation-10.png\r\n",
      "-rw-r--r--  1 tibben  staff   3700 Sep 20 23:13 inflammation-11.png\r\n",
      "-rw-r--r--  1 tibben  staff   2028 Sep 20 23:13 inflammation-12.png\r\n"
     ]
    }
   ],
   "source": [
    "ls -alF *png"
   ]
  },
  {
   "cell_type": "code",
   "execution_count": 7,
   "metadata": {},
   "outputs": [
    {
     "data": {
      "text/plain": [
       "['/Users/tibben/Documents/Sync/UMLibrary/curriculum/softwareCarpentry/swcarpentry_inflammation_hpc/inflammation-05.png',\n",
       " '/Users/tibben/Documents/Sync/UMLibrary/curriculum/softwareCarpentry/swcarpentry_inflammation_hpc/inflammation-11.png',\n",
       " '/Users/tibben/Documents/Sync/UMLibrary/curriculum/softwareCarpentry/swcarpentry_inflammation_hpc/inflammation-10.png',\n",
       " '/Users/tibben/Documents/Sync/UMLibrary/curriculum/softwareCarpentry/swcarpentry_inflammation_hpc/inflammation-04.png',\n",
       " '/Users/tibben/Documents/Sync/UMLibrary/curriculum/softwareCarpentry/swcarpentry_inflammation_hpc/inflammation-12.png',\n",
       " '/Users/tibben/Documents/Sync/UMLibrary/curriculum/softwareCarpentry/swcarpentry_inflammation_hpc/inflammation-06.png',\n",
       " '/Users/tibben/Documents/Sync/UMLibrary/curriculum/softwareCarpentry/swcarpentry_inflammation_hpc/inflammation-07.png',\n",
       " '/Users/tibben/Documents/Sync/UMLibrary/curriculum/softwareCarpentry/swcarpentry_inflammation_hpc/inflammation-03.png',\n",
       " '/Users/tibben/Documents/Sync/UMLibrary/curriculum/softwareCarpentry/swcarpentry_inflammation_hpc/inflammation-02.png',\n",
       " '/Users/tibben/Documents/Sync/UMLibrary/curriculum/softwareCarpentry/swcarpentry_inflammation_hpc/inflammation-01.png',\n",
       " '/Users/tibben/Documents/Sync/UMLibrary/curriculum/softwareCarpentry/swcarpentry_inflammation_hpc/inflammation-09.png',\n",
       " '/Users/tibben/Documents/Sync/UMLibrary/curriculum/softwareCarpentry/swcarpentry_inflammation_hpc/inflammation-08.png']"
      ]
     },
     "execution_count": 7,
     "metadata": {},
     "output_type": "execute_result"
    }
   ],
   "source": [
    "results"
   ]
  },
  {
   "cell_type": "code",
   "execution_count": null,
   "metadata": {},
   "outputs": [],
   "source": []
  }
 ],
 "metadata": {
  "anaconda-cloud": {},
  "kernelspec": {
   "display_name": "Python 3",
   "language": "python",
   "name": "python3"
  },
  "language_info": {
   "codemirror_mode": {
    "name": "ipython",
    "version": 3
   },
   "file_extension": ".py",
   "mimetype": "text/x-python",
   "name": "python",
   "nbconvert_exporter": "python",
   "pygments_lexer": "ipython3",
   "version": "3.6.5"
  }
 },
 "nbformat": 4,
 "nbformat_minor": 1
}
